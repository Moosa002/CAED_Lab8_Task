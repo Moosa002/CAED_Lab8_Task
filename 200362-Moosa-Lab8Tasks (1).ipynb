{
 "cells": [
  {
   "cell_type": "code",
   "execution_count": 33,
   "id": "28c2c22a",
   "metadata": {},
   "outputs": [
    {
     "name": "stdout",
     "output_type": "stream",
     "text": [
      "The total bill is: 500\n",
      "The paid bill is: 10\n",
      "Thank you for visiting you paid less than 20% of the bill...\n",
      "Your total Bill: $500\n",
      "Amount Paid: $10\n",
      "Remaining Balance: $490\n",
      "Penalty: $98.0\n"
     ]
    }
   ],
   "source": [
    "#task 1\n",
    "bill = int(input(\"The total bill is: \"))\n",
    "paid = int(input(\"The paid bill is: \"))\n",
    "bal = 0\n",
    "bill_perc10 = ((bill*10)/100)\n",
    "bill_perc20 = ((bill*20)/100)\n",
    "bill_perc50 = ((bill*50)/100)\n",
    "paid_perc20 = (paid*20)/100 \n",
    "paid_perc50 = paid/2\n",
    "if paid > bill:\n",
    "    bal = paid - bill\n",
    "else:\n",
    "    bal = bill - paid\n",
    "if bill == paid: #if paid full amount\n",
    "    if bill_perc10 < 10:\n",
    "        print(\"Thank you for visiting\\nYour total Bill: $\"+str(bill)+ \"\\nAmount Paid: $\"+str(paid)+\n",
    "          \"\\nRemaining Balance: $\"+str(bal)+\"\\nCashback: $\"+str(bill_perc10))\n",
    "    else:\n",
    "        print(\"Thank you for visiting\\nYour total Bill: $\"+str(bill)+ \"\\nAmount Paid: $\"+str(paid)+\n",
    "          \"\\nRemaining Balance: $\"+str(bal)+\"\\nCashback: $\"+str(10.00))\n",
    "        \n",
    "if paid > bill_perc50: #paid more then 50% of the bill \n",
    "    penalty = (bal*5)/100 #5% of balance\n",
    "    print(\"Thank you for visiting you paid more than 50% of your bill so....\\nYour total Bill: $\"+str(bill)+ \"\\nAmount Paid: $\"+str(paid)+\n",
    "          \"\\nRemaining Balance: $\"+str(bal)+\"\\nPenalty: $\"+str(penalty))\n",
    "\n",
    "if paid < bill_perc50 and paid > bill_perc20: #paid more then 20% less than 50% of the bill \n",
    "    penalty = (bal)/10 #10% of balance\n",
    "    print(\"Thank you for visiting you paid less than 50% of the bill so...\\nYour total Bill: $\"+str(bill)+ \"\\nAmount Paid: $\"+str(paid)+\n",
    "          \"\\nRemaining Balance: $\"+str(bal)+\"\\nPenalty: $\"+str(penalty))\n",
    "if paid <bill_perc20: #if paid less than 20% of the bill\n",
    "    penalty = (bal*20)/100 #20% of balance\n",
    "    print(\"Thank you for visiting you paid less than 20% of the bill...\\nYour total Bill: $\"+str(bill)+ \"\\nAmount Paid: $\"+str(paid)+\n",
    "          \"\\nRemaining Balance: $\"+str(bal)+\"\\nPenalty: $\"+str(penalty))"
   ]
  },
  {
   "cell_type": "code",
   "execution_count": 31,
   "id": "8792b8b6",
   "metadata": {},
   "outputs": [
    {
     "name": "stdout",
     "output_type": "stream",
     "text": [
      "Before removing 20:  [5, 20, 15, 20, 25, 50, 20]\n",
      "After removing 20:  [5, 15, 25, 50]\n"
     ]
    }
   ],
   "source": [
    "#Task 2\n",
    "num =0\n",
    "List = [5,20,15,20,25,50,20]\n",
    "print(\"Before removing 20: \",List)\n",
    "for num in List: #num will be the element in the list \n",
    "    if num == 20: #if element is 20 then remove it\n",
    "        List.remove(num)\n",
    "print(\"After removing 20: \",List)"
   ]
  },
  {
   "cell_type": "code",
   "execution_count": 2,
   "id": "c97500b9",
   "metadata": {},
   "outputs": [
    {
     "name": "stdout",
     "output_type": "stream",
     "text": [
      "Before removing 20:  [5, 20, 15, 20, 25, 50, 20]\n",
      "After replacing 20:  [5, 200, 15, 20, 25, 50, 20]\n"
     ]
    }
   ],
   "source": [
    "#Task 3\n",
    "num =0\n",
    "List = [5,20,15,20,25,50,20]\n",
    "print(\"Before removing 20: \",List)\n",
    "for index,num in enumerate(List): #enumerate will return index and the value in the list \n",
    "    if num == 20: #'num' is element of list and 'index' is the index of num in list\n",
    "        List[index] = 200\n",
    "        break\n",
    "print(\"After replacing 20: \",List)"
   ]
  },
  {
   "cell_type": "code",
   "execution_count": 13,
   "id": "20b3481e",
   "metadata": {},
   "outputs": [
    {
     "name": "stdout",
     "output_type": "stream",
     "text": [
      "(1, 1, 1, 1, 1, 1, 1)\n"
     ]
    }
   ],
   "source": [
    "#task 4\n",
    "tuple=(1,1,1,1,1,1,1)\n",
    "for i in tuple:\n",
    "    for g in tuple:\n",
    "        if i == g:\n",
    "            continue\n",
    "        else:\n",
    "            print(\"the values are not same\")\n",
    "            break\n",
    "    break\n",
    "print(tuple)"
   ]
  },
  {
   "cell_type": "code",
   "execution_count": 34,
   "id": "f10b15cf",
   "metadata": {
    "scrolled": true
   },
   "outputs": [
    {
     "name": "stdout",
     "output_type": "stream",
     "text": [
      "\n",
      "\n",
      "1 2 3 Moosa Jahangiri 6 7 Moosa 9 Jahangiri \n",
      "\n",
      "11 Moosa 13 14 Jahangiri Moosa 17 18 19 Moosa \n",
      "\n",
      "21 22 23 Moosa Jahangiri 26 27 Moosa 29 Jahangiri \n",
      "\n",
      "31 Moosa 33 34 Jahangiri Moosa 37 38 39 Moosa "
     ]
    }
   ],
   "source": [
    "#task 5\n",
    "count = 0\n",
    "for i in range(1,41):\n",
    "    if count % 10 == 0:\n",
    "        print(\"\\n\")     \n",
    "    count=count+1\n",
    "    if i%4 == 0:\n",
    "        print(\"Moosa\",end=\" \")\n",
    "        continue\n",
    "    elif i%5 == 0:\n",
    "        print(\"Jahangiri\",end=\" \")\n",
    "        continue\n",
    "    if i%4 == 0 and i%5 == 0:\n",
    "        print(200362,end=\" \")\n",
    "    if i%4 != 0 and i%5 != 0:\n",
    "            print(i,end=\" \")\n",
    "\n",
    "        "
   ]
  },
  {
   "cell_type": "code",
   "execution_count": null,
   "id": "0bbd24c0",
   "metadata": {},
   "outputs": [],
   "source": []
  }
 ],
 "metadata": {
  "kernelspec": {
   "display_name": "Python 3",
   "language": "python",
   "name": "python3"
  },
  "language_info": {
   "codemirror_mode": {
    "name": "ipython",
    "version": 3
   },
   "file_extension": ".py",
   "mimetype": "text/x-python",
   "name": "python",
   "nbconvert_exporter": "python",
   "pygments_lexer": "ipython3",
   "version": "3.8.8"
  }
 },
 "nbformat": 4,
 "nbformat_minor": 5
}
